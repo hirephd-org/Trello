{
 "cells": [
  {
   "cell_type": "code",
   "execution_count": 1,
   "id": "3738e63e",
   "metadata": {},
   "outputs": [],
   "source": [
    "from trello import TrelloClient #load package"
   ]
  },
  {
   "cell_type": "code",
   "execution_count": 2,
   "id": "1b7dd50d",
   "metadata": {},
   "outputs": [],
   "source": [
    "import pandas as pd"
   ]
  },
  {
   "cell_type": "code",
   "execution_count": 3,
   "id": "40879da6",
   "metadata": {},
   "outputs": [],
   "source": [
    "client = TrelloClient(\n",
    "  api_key= \"\",     #your trello key\n",
    "     token= \"\" ,             #your api token\n",
    ") #access my trello account"
   ]
  },
  {
   "cell_type": "code",
   "execution_count": 4,
   "id": "4fdc406c",
   "metadata": {},
   "outputs": [],
   "source": [
    "all_boards = client.list_boards()"
   ]
  },
  {
   "cell_type": "code",
   "execution_count": 5,
   "id": "acb0e45c",
   "metadata": {},
   "outputs": [],
   "source": [
    "events_board=all_boards[1] #get events board"
   ]
  },
  {
   "cell_type": "code",
   "execution_count": 6,
   "id": "36f55c52",
   "metadata": {},
   "outputs": [
    {
     "data": {
      "text/plain": [
       "<Board (name: Events) (id: 6060d24539ecae1327261e49) (last_activity: None) (client: <trello.trelloclient.TrelloClient object at 0x00000111C7354A90>) >"
      ]
     },
     "execution_count": 6,
     "metadata": {},
     "output_type": "execute_result"
    }
   ],
   "source": [
    "events_board #check to see if events_board variable shows the events board on trello"
   ]
  },
  {
   "cell_type": "code",
   "execution_count": 7,
   "id": "afd28eda",
   "metadata": {},
   "outputs": [
    {
     "name": "stdout",
     "output_type": "stream",
     "text": [
      "<List Post_Event>\n",
      "<List Events>\n",
      "<List Live>\n",
      "<List Materials ready to go live>\n",
      "<List Committed>\n",
      "<List Negotiating>\n",
      "<List Ideas/Potential>\n",
      "<List Live>\n",
      "<List Commit>\n",
      "<List Wrap Up>\n",
      "<List Done>\n",
      "<List Prepare to market>\n",
      "<List Assets>\n"
     ]
    }
   ],
   "source": [
    "for lists in events_board.list_lists():\n",
    "    print(lists) #see the list from the events board"
   ]
  },
  {
   "cell_type": "code",
   "execution_count": 8,
   "id": "52aa6cfb",
   "metadata": {},
   "outputs": [],
   "source": [
    "wrapup_list = events_board.list_lists()[-4]#get the \"wrap up\" list\n"
   ]
  },
  {
   "cell_type": "code",
   "execution_count": 9,
   "id": "492ea74a",
   "metadata": {},
   "outputs": [
    {
     "name": "stdout",
     "output_type": "stream",
     "text": [
      "<Card 2021-06-16 ACPSS Entertainment industry Sang Ma>\n",
      "<Card 2021-05-16 How to Get a Patent? PolyV Technology>\n",
      "<Card 2021-04-21 Adrianna 10X Genome>\n",
      "<Card 21-04-01 Column Consultants>\n",
      "<Card 21-03-04 MLA Simon Gibson>\n"
     ]
    }
   ],
   "source": [
    "for card in wrapup_list.list_cards():\n",
    "    print(card) #see all the cards in the"
   ]
  },
  {
   "cell_type": "code",
   "execution_count": 10,
   "id": "3bb45853",
   "metadata": {},
   "outputs": [],
   "source": [
    "patent_card=wrapup_list.list_cards()[1] #check the patent card"
   ]
  },
  {
   "cell_type": "code",
   "execution_count": 11,
   "id": "d6612c9b",
   "metadata": {},
   "outputs": [
    {
     "name": "stdout",
     "output_type": "stream",
     "text": [
      "Conceptual\n",
      "Official Partner list\n",
      "Materials from speaker\n",
      "Material from speaker's company\n",
      "Materials from partner\n",
      "Marketing material set up\n",
      "Go live!\n",
      "Marketing partner list\n",
      "Marketing\n",
      "Marketing channel list\n",
      "Event Preparation\n",
      "Event wrap up\n"
     ]
    }
   ],
   "source": [
    "for cl in patent_card.fetch_checklists():\n",
    "    print(cl.name) #see all the names of the checklists in the patent card"
   ]
  },
  {
   "cell_type": "code",
   "execution_count": 12,
   "id": "1904734c",
   "metadata": {},
   "outputs": [
    {
     "data": {
      "text/plain": [
       "[                                                 name\n",
       " 0                                Meeting with speaker\n",
       " 1                                                Logo\n",
       " 2                                         Event title\n",
       " 3                           Meeting with all speakers\n",
       " 4                                     Event date/time\n",
       " 5                                     Recorded event?\n",
       " 6                                       Teaser video?\n",
       " 7                                  Dry run date/time?\n",
       " 8                                 Preferred partners?\n",
       " 9   Description of the event - Conny will draft an...\n",
       " 10               Decide official partners - SBN/PolyV,\n",
       "   name\n",
       " 0  SBN,\n",
       "                                                 name\n",
       " 0  Speaker's name as appeared on marketing materials\n",
       " 1                                 Speaker head shots\n",
       " 2                                       Speaker bios\n",
       " 3  Social media handles: Speaker LinkedIn, Facebo...,\n",
       "                                                 name\n",
       " 0                                       Company name\n",
       " 1                                       Company logo\n",
       " 2                                Company description\n",
       " 3  Social media handles: Company LinkedIn, Facebo...\n",
       " 4                                   Company hashtags\n",
       " 5                              Company slogan if any\n",
       " 6                            Company website address,\n",
       "                                        name\n",
       " 0                    Official partner logos\n",
       " 1                      Official partner bio\n",
       " 2                           partner website\n",
       " 3                            partner hastag\n",
       " 4  partner linkedin/facebook/twitter handle,\n",
       "                                                 name\n",
       " 0                          Event poster - Eventbrite\n",
       " 1                            Event poster - LinkedIn\n",
       " 2  Draft [Event description](https://www.dropbox....\n",
       " 3  Speaker approves event description draft for e...\n",
       " 4                              Eventbrite event post,\n",
       "                                                  name\n",
       " 0                                Eventbrite zoom link\n",
       " 1                   Eventbrite registration questions\n",
       " 2                 Marketing partner list from speaker\n",
       " 3                      Set Eventbrite reminder emails\n",
       " 4           Set Evenbrite after event follow up email\n",
       " 5   Update previous event follow up email with thi...\n",
       " 6                       Create custom marketing links\n",
       " 7         Speaker approves eventbrite page to go live\n",
       " 8               Add speaker access to eventbrite page\n",
       " 9                             Publish eventbrite page\n",
       " 10                              Publish LinkedIn page\n",
       " 11                      Send speaker marketing assets,\n",
       "                                                 name\n",
       " 0                                             SWISCT\n",
       " 1                                                GSS\n",
       " 2                                        UBC postdoc\n",
       " 3                                            VanTech\n",
       " 4                                      Women in Tech\n",
       " 5                                               UVic\n",
       " 6                                                 UT\n",
       " 7                                                SFU\n",
       " 8  [Keiretsu](https://www.keiretsuforum.com/globa...\n",
       " 9                              community.grad.ubc.ca,\n",
       "                                                  name\n",
       " 0                                        Teaser video\n",
       " 1   send newsletter to previous participants like ...\n",
       " 2   Schedule social media posting based on # of pa...\n",
       " 3              Share marketing schedule with speakers\n",
       " 4   Any other company promo materials for social m...\n",
       " 5                                      LinkedIn polls\n",
       " 6                           After previous event push\n",
       " 7            Promo to email list from previous events\n",
       " 8                                 3 weeks before push\n",
       " 9                                 2 weeks before push\n",
       " 10                                 1 week before push\n",
       " 11                                 5 days before push\n",
       " 12                                 3 days before push\n",
       " 13                                  1 day before push,\n",
       "                                                 name\n",
       " 0                                             Mitacs\n",
       " 1  [PhD to Counsulting](https://www.linkedin.com/...\n",
       " 2                                   DRINKS vanvouver\n",
       " 3                                      Varsitile PhD\n",
       " 4                                        PHD project,\n",
       "                                                 name\n",
       " 0                                 Identify moderator\n",
       " 1                               Identify facilitator\n",
       " 2                            Dry run May 8th 2pm PST\n",
       " 3          ask for presentation slides 3 days before\n",
       " 4                1 day before check in with speakers\n",
       " 5            Post event access link on linkedin page\n",
       " 6  1 day before post on event page how to access ...\n",
       " 7  look at zoom video to see which set up is bett...,\n",
       "                                      name\n",
       " 0  Send speaker list of attendee contacts\n",
       " 1                 Send speaker zoom video\n",
       " 2                         Edit zoom video\n",
       " 3               Event feedback evaluation]"
      ]
     },
     "execution_count": 12,
     "metadata": {},
     "output_type": "execute_result"
    }
   ],
   "source": [
    "a=[]\n",
    "for cl in patent_card.fetch_checklists():\n",
    "    df1=pd.DataFrame(cl.items)\n",
    "    a.append(df1[['name']])\n",
    "    #print(df1[['name']]) #print name of checklist and items\n",
    "a"
   ]
  },
  {
   "cell_type": "code",
   "execution_count": 13,
   "id": "40bd47ec",
   "metadata": {},
   "outputs": [
    {
     "data": {
      "text/html": [
       "<div>\n",
       "<style scoped>\n",
       "    .dataframe tbody tr th:only-of-type {\n",
       "        vertical-align: middle;\n",
       "    }\n",
       "\n",
       "    .dataframe tbody tr th {\n",
       "        vertical-align: top;\n",
       "    }\n",
       "\n",
       "    .dataframe thead th {\n",
       "        text-align: right;\n",
       "    }\n",
       "</style>\n",
       "<table border=\"1\" class=\"dataframe\">\n",
       "  <thead>\n",
       "    <tr style=\"text-align: right;\">\n",
       "      <th></th>\n",
       "      <th>Checklist</th>\n",
       "    </tr>\n",
       "  </thead>\n",
       "  <tbody>\n",
       "    <tr>\n",
       "      <th>0</th>\n",
       "      <td>Conceptual</td>\n",
       "    </tr>\n",
       "    <tr>\n",
       "      <th>1</th>\n",
       "      <td>Official Partner list</td>\n",
       "    </tr>\n",
       "    <tr>\n",
       "      <th>2</th>\n",
       "      <td>Materials from speaker</td>\n",
       "    </tr>\n",
       "    <tr>\n",
       "      <th>3</th>\n",
       "      <td>Material from speaker's company</td>\n",
       "    </tr>\n",
       "    <tr>\n",
       "      <th>4</th>\n",
       "      <td>Materials from partner</td>\n",
       "    </tr>\n",
       "    <tr>\n",
       "      <th>5</th>\n",
       "      <td>Marketing material set up</td>\n",
       "    </tr>\n",
       "    <tr>\n",
       "      <th>6</th>\n",
       "      <td>Go live!</td>\n",
       "    </tr>\n",
       "    <tr>\n",
       "      <th>7</th>\n",
       "      <td>Marketing partner list</td>\n",
       "    </tr>\n",
       "    <tr>\n",
       "      <th>8</th>\n",
       "      <td>Marketing</td>\n",
       "    </tr>\n",
       "    <tr>\n",
       "      <th>9</th>\n",
       "      <td>Marketing channel list</td>\n",
       "    </tr>\n",
       "    <tr>\n",
       "      <th>10</th>\n",
       "      <td>Event Preparation</td>\n",
       "    </tr>\n",
       "    <tr>\n",
       "      <th>11</th>\n",
       "      <td>Event wrap up</td>\n",
       "    </tr>\n",
       "  </tbody>\n",
       "</table>\n",
       "</div>"
      ],
      "text/plain": [
       "                          Checklist\n",
       "0                        Conceptual\n",
       "1             Official Partner list\n",
       "2            Materials from speaker\n",
       "3   Material from speaker's company\n",
       "4            Materials from partner\n",
       "5         Marketing material set up\n",
       "6                          Go live!\n",
       "7            Marketing partner list\n",
       "8                         Marketing\n",
       "9            Marketing channel list\n",
       "10                Event Preparation\n",
       "11                    Event wrap up"
      ]
     },
     "execution_count": 13,
     "metadata": {},
     "output_type": "execute_result"
    }
   ],
   "source": [
    "d=[]\n",
    "for cl in patent_card.fetch_checklists():\n",
    "    d.append(cl.name)\n",
    "    df2=pd.DataFrame(d, columns=['Checklist']) #get names of checklist\n",
    "df2 #view all names of checklists "
   ]
  },
  {
   "cell_type": "code",
   "execution_count": 14,
   "id": "fe217004",
   "metadata": {},
   "outputs": [
    {
     "data": {
      "text/html": [
       "<div>\n",
       "<style scoped>\n",
       "    .dataframe tbody tr th:only-of-type {\n",
       "        vertical-align: middle;\n",
       "    }\n",
       "\n",
       "    .dataframe tbody tr th {\n",
       "        vertical-align: top;\n",
       "    }\n",
       "\n",
       "    .dataframe thead th {\n",
       "        text-align: right;\n",
       "    }\n",
       "</style>\n",
       "<table border=\"1\" class=\"dataframe\">\n",
       "  <thead>\n",
       "    <tr style=\"text-align: right;\">\n",
       "      <th></th>\n",
       "      <th>name</th>\n",
       "    </tr>\n",
       "  </thead>\n",
       "  <tbody>\n",
       "    <tr>\n",
       "      <th>0</th>\n",
       "      <td>Meeting with speaker</td>\n",
       "    </tr>\n",
       "    <tr>\n",
       "      <th>1</th>\n",
       "      <td>Logo</td>\n",
       "    </tr>\n",
       "    <tr>\n",
       "      <th>2</th>\n",
       "      <td>Event title</td>\n",
       "    </tr>\n",
       "    <tr>\n",
       "      <th>3</th>\n",
       "      <td>Meeting with all speakers</td>\n",
       "    </tr>\n",
       "    <tr>\n",
       "      <th>4</th>\n",
       "      <td>Event date/time</td>\n",
       "    </tr>\n",
       "    <tr>\n",
       "      <th>5</th>\n",
       "      <td>Recorded event?</td>\n",
       "    </tr>\n",
       "    <tr>\n",
       "      <th>6</th>\n",
       "      <td>Teaser video?</td>\n",
       "    </tr>\n",
       "    <tr>\n",
       "      <th>7</th>\n",
       "      <td>Dry run date/time?</td>\n",
       "    </tr>\n",
       "    <tr>\n",
       "      <th>8</th>\n",
       "      <td>Preferred partners?</td>\n",
       "    </tr>\n",
       "    <tr>\n",
       "      <th>9</th>\n",
       "      <td>Description of the event - Conny will draft an...</td>\n",
       "    </tr>\n",
       "    <tr>\n",
       "      <th>10</th>\n",
       "      <td>Decide official partners - SBN/PolyV</td>\n",
       "    </tr>\n",
       "  </tbody>\n",
       "</table>\n",
       "</div>"
      ],
      "text/plain": [
       "                                                 name\n",
       "0                                Meeting with speaker\n",
       "1                                                Logo\n",
       "2                                         Event title\n",
       "3                           Meeting with all speakers\n",
       "4                                     Event date/time\n",
       "5                                     Recorded event?\n",
       "6                                       Teaser video?\n",
       "7                                  Dry run date/time?\n",
       "8                                 Preferred partners?\n",
       "9   Description of the event - Conny will draft an...\n",
       "10               Decide official partners - SBN/PolyV"
      ]
     },
     "execution_count": 14,
     "metadata": {},
     "output_type": "execute_result"
    }
   ],
   "source": [
    "conceptual=a[0] #view checklist for \"Conceptual\" checklist\n",
    "conceptual"
   ]
  },
  {
   "cell_type": "code",
   "execution_count": 15,
   "id": "9146c6b7",
   "metadata": {},
   "outputs": [
    {
     "data": {
      "text/html": [
       "<div>\n",
       "<style scoped>\n",
       "    .dataframe tbody tr th:only-of-type {\n",
       "        vertical-align: middle;\n",
       "    }\n",
       "\n",
       "    .dataframe tbody tr th {\n",
       "        vertical-align: top;\n",
       "    }\n",
       "\n",
       "    .dataframe thead th {\n",
       "        text-align: right;\n",
       "    }\n",
       "</style>\n",
       "<table border=\"1\" class=\"dataframe\">\n",
       "  <thead>\n",
       "    <tr style=\"text-align: right;\">\n",
       "      <th></th>\n",
       "      <th>name</th>\n",
       "    </tr>\n",
       "  </thead>\n",
       "  <tbody>\n",
       "    <tr>\n",
       "      <th>0</th>\n",
       "      <td>Send speaker list of attendee contacts</td>\n",
       "    </tr>\n",
       "    <tr>\n",
       "      <th>1</th>\n",
       "      <td>Send speaker zoom video</td>\n",
       "    </tr>\n",
       "    <tr>\n",
       "      <th>2</th>\n",
       "      <td>Edit zoom video</td>\n",
       "    </tr>\n",
       "    <tr>\n",
       "      <th>3</th>\n",
       "      <td>Event feedback evaluation</td>\n",
       "    </tr>\n",
       "  </tbody>\n",
       "</table>\n",
       "</div>"
      ],
      "text/plain": [
       "                                     name\n",
       "0  Send speaker list of attendee contacts\n",
       "1                 Send speaker zoom video\n",
       "2                         Edit zoom video\n",
       "3               Event feedback evaluation"
      ]
     },
     "execution_count": 15,
     "metadata": {},
     "output_type": "execute_result"
    }
   ],
   "source": [
    "wrap_up=a[11] #view checklist for \"Event wrap up\" checklist\n",
    "wrap_up"
   ]
  },
  {
   "cell_type": "code",
   "execution_count": null,
   "id": "3403d1a7",
   "metadata": {},
   "outputs": [],
   "source": []
  },
  {
   "cell_type": "code",
   "execution_count": null,
   "id": "0f266a68",
   "metadata": {},
   "outputs": [],
   "source": []
  }
 ],
 "metadata": {
  "kernelspec": {
   "display_name": "Python 3",
   "language": "python",
   "name": "python3"
  },
  "language_info": {
   "codemirror_mode": {
    "name": "ipython",
    "version": 3
   },
   "file_extension": ".py",
   "mimetype": "text/x-python",
   "name": "python",
   "nbconvert_exporter": "python",
   "pygments_lexer": "ipython3",
   "version": "3.8.5"
  }
 },
 "nbformat": 4,
 "nbformat_minor": 5
}
